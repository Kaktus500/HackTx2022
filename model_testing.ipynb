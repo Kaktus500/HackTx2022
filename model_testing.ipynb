{
 "cells": [
  {
   "cell_type": "code",
   "execution_count": 2,
   "metadata": {},
   "outputs": [],
   "source": [
    "import tensorflow as tf\n",
    "import numpy as np \n",
    "import csv\n",
    "from sklearn.model_selection import train_test_split\n",
    "\n",
    "RANDOM_SEED = 42"
   ]
  },
  {
   "cell_type": "code",
   "execution_count": 17,
   "metadata": {},
   "outputs": [],
   "source": [
    "dataset_path = 'model/keypoint_classifier/keypoint.csv'\n",
    "model_save_path = 'model/keypoint_classifier/keypoint_classifier.hdf5'\n",
    "NUM_CLASSES = 4"
   ]
  },
  {
   "cell_type": "code",
   "execution_count": 18,
   "metadata": {},
   "outputs": [],
   "source": [
    "X_dataset = np.loadtxt(dataset_path, delimiter=',', dtype='float32', usecols=list(range(1, (21 * 2) + 1)))\n",
    "y_dataset = np.loadtxt(dataset_path, delimiter=',', dtype='int32', usecols=(0))\n",
    "X_train, X_test, y_train, y_test = train_test_split(X_dataset, y_dataset, train_size=0.75, random_state=RANDOM_SEED)"
   ]
  },
  {
   "cell_type": "code",
   "execution_count": 19,
   "metadata": {},
   "outputs": [],
   "source": [
    "model = tf.keras.models.Sequential([\n",
    "    tf.keras.layers.Input((21 * 2, )),\n",
    "    tf.keras.layers.Dropout(0.2),\n",
    "    tf.keras.layers.Dense(20, activation='relu'),\n",
    "    tf.keras.layers.Dropout(0.4),\n",
    "    tf.keras.layers.Dense(10, activation='relu'),\n",
    "    tf.keras.layers.Dense(NUM_CLASSES, activation='softmax')\n",
    "])"
   ]
  },
  {
   "cell_type": "code",
   "execution_count": 20,
   "metadata": {},
   "outputs": [
    {
     "name": "stdout",
     "output_type": "stream",
     "text": [
      "Model: \"sequential_1\"\n",
      "_________________________________________________________________\n",
      " Layer (type)                Output Shape              Param #   \n",
      "=================================================================\n",
      " dropout_2 (Dropout)         (None, 42)                0         \n",
      "                                                                 \n",
      " dense_3 (Dense)             (None, 20)                860       \n",
      "                                                                 \n",
      " dropout_3 (Dropout)         (None, 20)                0         \n",
      "                                                                 \n",
      " dense_4 (Dense)             (None, 10)                210       \n",
      "                                                                 \n",
      " dense_5 (Dense)             (None, 4)                 44        \n",
      "                                                                 \n",
      "=================================================================\n",
      "Total params: 1,114\n",
      "Trainable params: 1,114\n",
      "Non-trainable params: 0\n",
      "_________________________________________________________________\n"
     ]
    }
   ],
   "source": [
    "model.summary()  # tf.keras.utils.plot_model(model, show_shapes=True)"
   ]
  },
  {
   "cell_type": "code",
   "execution_count": 21,
   "metadata": {},
   "outputs": [],
   "source": [
    "cp_callback = tf.keras.callbacks.ModelCheckpoint(\n",
    "    model_save_path, verbose=1, save_weights_only=False)\n",
    "es_callback = tf.keras.callbacks.EarlyStopping(patience=20, verbose=1)"
   ]
  },
  {
   "cell_type": "code",
   "execution_count": 22,
   "metadata": {},
   "outputs": [],
   "source": [
    "model.compile(\n",
    "    optimizer='adam',\n",
    "    loss='sparse_categorical_crossentropy',\n",
    "    metrics=['accuracy']\n",
    ")"
   ]
  },
  {
   "cell_type": "code",
   "execution_count": 23,
   "metadata": {},
   "outputs": [
    {
     "name": "stdout",
     "output_type": "stream",
     "text": [
      "Epoch 1/10\n",
      "45/57 [======================>.......] - ETA: 0s - loss: 1.3095 - accuracy: 0.3392 \n",
      "Epoch 1: saving model to model/keypoint_classifier\\keypoint_classifier.hdf5\n",
      "57/57 [==============================] - 3s 45ms/step - loss: 1.2941 - accuracy: 0.3518 - val_loss: 1.2021 - val_accuracy: 0.4353\n",
      "Epoch 2/10\n",
      "37/57 [==================>...........] - ETA: 0s - loss: 1.1942 - accuracy: 0.4139\n",
      "Epoch 2: saving model to model/keypoint_classifier\\keypoint_classifier.hdf5\n",
      "57/57 [==============================] - 0s 2ms/step - loss: 1.1829 - accuracy: 0.4187 - val_loss: 1.0944 - val_accuracy: 0.5530\n",
      "Epoch 3/10\n",
      "37/57 [==================>...........] - ETA: 0s - loss: 1.1289 - accuracy: 0.4683\n",
      "Epoch 3: saving model to model/keypoint_classifier\\keypoint_classifier.hdf5\n",
      "57/57 [==============================] - 0s 2ms/step - loss: 1.1154 - accuracy: 0.4710 - val_loss: 1.0033 - val_accuracy: 0.6525\n",
      "Epoch 4/10\n",
      "34/57 [================>.............] - ETA: 0s - loss: 1.0691 - accuracy: 0.5179\n",
      "Epoch 4: saving model to model/keypoint_classifier\\keypoint_classifier.hdf5\n",
      "57/57 [==============================] - 0s 2ms/step - loss: 1.0594 - accuracy: 0.5234 - val_loss: 0.9304 - val_accuracy: 0.6817\n",
      "Epoch 5/10\n",
      "39/57 [===================>..........] - ETA: 0s - loss: 1.0038 - accuracy: 0.5533\n",
      "Epoch 5: saving model to model/keypoint_classifier\\keypoint_classifier.hdf5\n",
      "57/57 [==============================] - 0s 2ms/step - loss: 1.0074 - accuracy: 0.5432 - val_loss: 0.8555 - val_accuracy: 0.7485\n",
      "Epoch 6/10\n",
      "35/57 [=================>............] - ETA: 0s - loss: 0.9652 - accuracy: 0.5741\n",
      "Epoch 6: saving model to model/keypoint_classifier\\keypoint_classifier.hdf5\n",
      "57/57 [==============================] - 0s 2ms/step - loss: 0.9648 - accuracy: 0.5710 - val_loss: 0.7883 - val_accuracy: 0.7794\n",
      "Epoch 7/10\n",
      "38/57 [===================>..........] - ETA: 0s - loss: 0.9316 - accuracy: 0.5970\n",
      "Epoch 7: saving model to model/keypoint_classifier\\keypoint_classifier.hdf5\n",
      "57/57 [==============================] - 0s 2ms/step - loss: 0.9279 - accuracy: 0.5914 - val_loss: 0.7209 - val_accuracy: 0.7895\n",
      "Epoch 8/10\n",
      "40/57 [====================>.........] - ETA: 0s - loss: 0.8889 - accuracy: 0.6164\n",
      "Epoch 8: saving model to model/keypoint_classifier\\keypoint_classifier.hdf5\n",
      "57/57 [==============================] - 0s 2ms/step - loss: 0.8960 - accuracy: 0.6058 - val_loss: 0.6694 - val_accuracy: 0.8246\n",
      "Epoch 9/10\n",
      "41/57 [====================>.........] - ETA: 0s - loss: 0.8545 - accuracy: 0.6269\n",
      "Epoch 9: saving model to model/keypoint_classifier\\keypoint_classifier.hdf5\n",
      "57/57 [==============================] - 0s 2ms/step - loss: 0.8474 - accuracy: 0.6295 - val_loss: 0.6156 - val_accuracy: 0.8496\n",
      "Epoch 10/10\n",
      "34/57 [================>.............] - ETA: 0s - loss: 0.8214 - accuracy: 0.6489\n",
      "Epoch 10: saving model to model/keypoint_classifier\\keypoint_classifier.hdf5\n",
      "57/57 [==============================] - 0s 2ms/step - loss: 0.8144 - accuracy: 0.6529 - val_loss: 0.5694 - val_accuracy: 0.8521\n"
     ]
    },
    {
     "data": {
      "text/plain": [
       "<keras.callbacks.History at 0x231af038880>"
      ]
     },
     "execution_count": 23,
     "metadata": {},
     "output_type": "execute_result"
    }
   ],
   "source": [
    "model.fit(\n",
    "    X_train,\n",
    "    y_train,\n",
    "    epochs=10,\n",
    "    batch_size=64,\n",
    "    validation_data=(X_test, y_test),\n",
    "    callbacks=[cp_callback, es_callback]\n",
    ")"
   ]
  },
  {
   "cell_type": "code",
   "execution_count": 24,
   "metadata": {},
   "outputs": [
    {
     "name": "stdout",
     "output_type": "stream",
     "text": [
      "10/10 [==============================] - 0s 984us/step - loss: 0.5694 - accuracy: 0.8521\n"
     ]
    }
   ],
   "source": [
    "val_loss, val_acc = model.evaluate(X_test, y_test, batch_size=128)"
   ]
  },
  {
   "cell_type": "code",
   "execution_count": 25,
   "metadata": {},
   "outputs": [],
   "source": [
    "model = tf.keras.models.load_model(model_save_path)"
   ]
  },
  {
   "cell_type": "code",
   "execution_count": 27,
   "metadata": {},
   "outputs": [
    {
     "name": "stdout",
     "output_type": "stream",
     "text": [
      "1/1 [==============================] - 0s 21ms/step\n",
      "[0.7998339  0.12271202 0.02541777 0.05203631]\n",
      "0\n",
      "0\n"
     ]
    }
   ],
   "source": [
    "predict_result = model.predict(np.array([X_test[0]]))\n",
    "print(np.squeeze(predict_result))\n",
    "print(np.argmax(np.squeeze(predict_result)))\n",
    "print(y_test[0])"
   ]
  },
  {
   "cell_type": "code",
   "execution_count": null,
   "metadata": {},
   "outputs": [],
   "source": []
  }
 ],
 "metadata": {
  "kernelspec": {
   "display_name": "Python 3.10.7 ('.venv': venv)",
   "language": "python",
   "name": "python3"
  },
  "language_info": {
   "codemirror_mode": {
    "name": "ipython",
    "version": 3
   },
   "file_extension": ".py",
   "mimetype": "text/x-python",
   "name": "python",
   "nbconvert_exporter": "python",
   "pygments_lexer": "ipython3",
   "version": "3.10.7"
  },
  "orig_nbformat": 4,
  "vscode": {
   "interpreter": {
    "hash": "53c99cf7508a56e196956d9f0b8c800967868b0d657c705e99f27b966261d510"
   }
  }
 },
 "nbformat": 4,
 "nbformat_minor": 2
}
