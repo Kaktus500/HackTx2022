{
 "cells": [
  {
   "cell_type": "code",
   "execution_count": 76,
   "metadata": {},
   "outputs": [],
   "source": [
    "import tensorflow as tf\n",
    "import numpy as np \n",
    "import csv\n",
    "from sklearn.model_selection import train_test_split\n",
    "from sklearn.preprocessing import LabelEncoder\n",
    "import pickle\n",
    "\n",
    "RANDOM_SEED = 42"
   ]
  },
  {
   "cell_type": "code",
   "execution_count": 77,
   "metadata": {},
   "outputs": [],
   "source": [
    "dataset_path = 'model/keypoint_classifier/data/keypoint.csv'\n",
    "model_save_path = 'model/keypoint_classifier/models/keypoint_classifier.hdf5'"
   ]
  },
  {
   "cell_type": "code",
   "execution_count": 78,
   "metadata": {},
   "outputs": [],
   "source": [
    "encoder = LabelEncoder()\n",
    "X_dataset = np.loadtxt(dataset_path, delimiter=',', dtype='float32', usecols=list(range(1, (21 * 2) + 1)))\n",
    "y_dataset = np.loadtxt(dataset_path, delimiter=',', dtype='int32', usecols=(0))\n",
    "y_dataset_encoded = encoder.fit_transform(y_dataset)\n",
    "X_train, X_test, y_train, y_test = train_test_split(X_dataset, y_dataset_encoded, train_size=0.75, random_state=RANDOM_SEED)\n",
    "with open(\"le.obj\",\"wb\") as f:\n",
    "    pickle.dump(encoder,f)\n",
    "NUM_CLASSES = len(encoder.classes_)"
   ]
  },
  {
   "cell_type": "code",
   "execution_count": 79,
   "metadata": {},
   "outputs": [],
   "source": [
    "model = tf.keras.models.Sequential([\n",
    "    tf.keras.layers.Input((21 * 2, )),\n",
    "    tf.keras.layers.Dropout(0.2),\n",
    "    tf.keras.layers.Dense(20, activation='relu'),\n",
    "    tf.keras.layers.Dropout(0.4),\n",
    "    tf.keras.layers.Dense(10, activation='relu'),\n",
    "    tf.keras.layers.Dense(NUM_CLASSES, activation='softmax')\n",
    "])"
   ]
  },
  {
   "cell_type": "code",
   "execution_count": 80,
   "metadata": {},
   "outputs": [
    {
     "name": "stdout",
     "output_type": "stream",
     "text": [
      "Model: \"sequential_6\"\n",
      "_________________________________________________________________\n",
      " Layer (type)                Output Shape              Param #   \n",
      "=================================================================\n",
      " dropout_12 (Dropout)        (None, 42)                0         \n",
      "                                                                 \n",
      " dense_18 (Dense)            (None, 20)                860       \n",
      "                                                                 \n",
      " dropout_13 (Dropout)        (None, 20)                0         \n",
      "                                                                 \n",
      " dense_19 (Dense)            (None, 10)                210       \n",
      "                                                                 \n",
      " dense_20 (Dense)            (None, 3)                 33        \n",
      "                                                                 \n",
      "=================================================================\n",
      "Total params: 1,103\n",
      "Trainable params: 1,103\n",
      "Non-trainable params: 0\n",
      "_________________________________________________________________\n"
     ]
    }
   ],
   "source": [
    "model.summary()  # tf.keras.utils.plot_model(model, show_shapes=True)"
   ]
  },
  {
   "cell_type": "code",
   "execution_count": 81,
   "metadata": {},
   "outputs": [],
   "source": [
    "cp_callback = tf.keras.callbacks.ModelCheckpoint(\n",
    "    model_save_path, verbose=0, save_weights_only=False)\n",
    "es_callback = tf.keras.callbacks.EarlyStopping(patience=20, verbose=1)"
   ]
  },
  {
   "cell_type": "code",
   "execution_count": 82,
   "metadata": {},
   "outputs": [],
   "source": [
    "model.compile(\n",
    "    optimizer='adam',\n",
    "    loss='sparse_categorical_crossentropy',\n",
    "    metrics=['accuracy']\n",
    ")"
   ]
  },
  {
   "cell_type": "code",
   "execution_count": 83,
   "metadata": {},
   "outputs": [
    {
     "name": "stdout",
     "output_type": "stream",
     "text": [
      "Epoch 1/10\n",
      "19/19 [==============================] - 0s 10ms/step - loss: 1.1241 - accuracy: 0.3392 - val_loss: 1.0754 - val_accuracy: 0.4040\n",
      "Epoch 2/10\n",
      "19/19 [==============================] - 0s 4ms/step - loss: 1.0737 - accuracy: 0.3789 - val_loss: 1.0264 - val_accuracy: 0.3813\n",
      "Epoch 3/10\n",
      "19/19 [==============================] - 0s 4ms/step - loss: 1.0426 - accuracy: 0.4312 - val_loss: 0.9840 - val_accuracy: 0.4495\n",
      "Epoch 4/10\n",
      "19/19 [==============================] - 0s 4ms/step - loss: 1.0045 - accuracy: 0.4675 - val_loss: 0.9402 - val_accuracy: 0.5530\n",
      "Epoch 5/10\n",
      "19/19 [==============================] - 0s 4ms/step - loss: 0.9764 - accuracy: 0.4869 - val_loss: 0.8931 - val_accuracy: 0.6995\n",
      "Epoch 6/10\n",
      "19/19 [==============================] - 0s 4ms/step - loss: 0.9130 - accuracy: 0.5603 - val_loss: 0.8316 - val_accuracy: 0.7247\n",
      "Epoch 7/10\n",
      "19/19 [==============================] - 0s 4ms/step - loss: 0.8845 - accuracy: 0.5831 - val_loss: 0.7689 - val_accuracy: 0.8384\n",
      "Epoch 8/10\n",
      "19/19 [==============================] - 0s 4ms/step - loss: 0.8533 - accuracy: 0.6076 - val_loss: 0.7030 - val_accuracy: 0.8561\n",
      "Epoch 9/10\n",
      "19/19 [==============================] - 0s 4ms/step - loss: 0.7795 - accuracy: 0.6751 - val_loss: 0.6362 - val_accuracy: 0.8737\n",
      "Epoch 10/10\n",
      "19/19 [==============================] - 0s 4ms/step - loss: 0.7686 - accuracy: 0.6624 - val_loss: 0.5681 - val_accuracy: 0.8990\n"
     ]
    },
    {
     "data": {
      "text/plain": [
       "<keras.callbacks.History at 0x1c44af1d4b0>"
      ]
     },
     "execution_count": 83,
     "metadata": {},
     "output_type": "execute_result"
    }
   ],
   "source": [
    "model.fit(\n",
    "    X_train,\n",
    "    y_train,\n",
    "    epochs=10,\n",
    "    batch_size=64,\n",
    "    validation_data=(X_test, y_test),\n",
    "    callbacks=[cp_callback, es_callback]\n",
    ")"
   ]
  },
  {
   "cell_type": "code",
   "execution_count": 84,
   "metadata": {},
   "outputs": [
    {
     "name": "stdout",
     "output_type": "stream",
     "text": [
      "4/4 [==============================] - 0s 997us/step - loss: 0.5681 - accuracy: 0.8990\n"
     ]
    }
   ],
   "source": [
    "val_loss, val_acc = model.evaluate(X_test, y_test, batch_size=128)"
   ]
  },
  {
   "cell_type": "code",
   "execution_count": 85,
   "metadata": {},
   "outputs": [],
   "source": [
    "model = tf.keras.models.load_model(model_save_path)"
   ]
  },
  {
   "cell_type": "code",
   "execution_count": 87,
   "metadata": {},
   "outputs": [
    {
     "name": "stdout",
     "output_type": "stream",
     "text": [
      "1/1 [==============================] - 0s 18ms/step\n",
      "[0.03313294 0.38344193 0.58342516]\n",
      "2\n",
      "2\n"
     ]
    }
   ],
   "source": [
    "predict_result = model.predict(np.array([X_test[0]]))\n",
    "print(np.squeeze(predict_result))\n",
    "print(np.argmax(np.squeeze(predict_result)))\n",
    "print(y_test[0])"
   ]
  }
 ],
 "metadata": {
  "kernelspec": {
   "display_name": "Python 3.10.7 ('.venv': venv)",
   "language": "python",
   "name": "python3"
  },
  "language_info": {
   "codemirror_mode": {
    "name": "ipython",
    "version": 3
   },
   "file_extension": ".py",
   "mimetype": "text/x-python",
   "name": "python",
   "nbconvert_exporter": "python",
   "pygments_lexer": "ipython3",
   "version": "3.10.7"
  },
  "orig_nbformat": 4,
  "vscode": {
   "interpreter": {
    "hash": "53c99cf7508a56e196956d9f0b8c800967868b0d657c705e99f27b966261d510"
   }
  }
 },
 "nbformat": 4,
 "nbformat_minor": 2
}
